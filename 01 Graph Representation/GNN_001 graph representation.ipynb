{
 "cells": [
  {
   "cell_type": "code",
   "execution_count": 21,
   "id": "60a386f7",
   "metadata": {},
   "outputs": [],
   "source": [
    "import torch\n",
    "from torch_geometric.data import Data\n",
    "import networkx as nx\n",
    "from torch_geometric.utils.convert import to_networkx"
   ]
  },
  {
   "cell_type": "code",
   "execution_count": 3,
   "id": "159fab9f",
   "metadata": {},
   "outputs": [
    {
     "name": "stdout",
     "output_type": "stream",
     "text": [
      "2.0.0\n"
     ]
    }
   ],
   "source": [
    "print(torch. __version__)"
   ]
  },
  {
   "cell_type": "markdown",
   "id": "8207e942",
   "metadata": {},
   "source": [
    "### 01 Define a graph"
   ]
  },
  {
   "cell_type": "code",
   "execution_count": 34,
   "id": "4d256cb3",
   "metadata": {},
   "outputs": [],
   "source": [
    "\n",
    "\n",
    "# a graph with 4 nodes\n",
    "\n",
    "edge_list = torch.tensor([\n",
    "    [0,0,0,1,2,2,3,3, 4,4,3,4], # source node\n",
    "    [1,2,3,0,0,3,2,0,3,0,4,5] # Target nodes\n",
    "], dtype=torch.long)"
   ]
  },
  {
   "cell_type": "code",
   "execution_count": 24,
   "id": "8fd37e35",
   "metadata": {},
   "outputs": [
    {
     "data": {
      "text/plain": [
       "tensor([[0, 0, 0, 1, 2, 2, 3, 3, 4, 4, 3],\n",
       "        [1, 2, 3, 0, 0, 3, 2, 0, 3, 0, 4]])"
      ]
     },
     "execution_count": 24,
     "metadata": {},
     "output_type": "execute_result"
    }
   ],
   "source": [
    "edge_list"
   ]
  },
  {
   "cell_type": "markdown",
   "id": "4bac4212",
   "metadata": {},
   "source": [
    "### 02.  6 feastures for each node (4 *6 - # of nudes x # of features)"
   ]
  },
  {
   "cell_type": "code",
   "execution_count": 52,
   "id": "86daa216",
   "metadata": {},
   "outputs": [],
   "source": [
    "node_features  = torch.tensor([\n",
    "                    [-8, 1, 5, 8, 2, -3], # features node 0\n",
    "                    [-1, 0, 2, -3, 0, 1], #  \" node 1\n",
    "                    [1, -1, 0, -1, 2, 1], # \" node 2\"\n",
    "                    [0,  1, 4, -2, 3, 4],  # node 3\n",
    "                    [6,  0, 2, -6, 2, 0], # node 4\n",
    "                    [-5,  1,  0, -1, -2, 1]\n",
    "                        ], dtype = torch.long)"
   ]
  },
  {
   "cell_type": "markdown",
   "id": "a7377628",
   "metadata": {},
   "source": [
    "### 03.  weights for the features (one W for each edge)"
   ]
  },
  {
   "cell_type": "code",
   "execution_count": 53,
   "id": "75e8c454",
   "metadata": {},
   "outputs": [
    {
     "name": "stderr",
     "output_type": "stream",
     "text": [
      "/var/folders/6_/n5_p9hgx2mj08njw5lqlvgww0000gn/T/ipykernel_6932/3637236476.py:1: DeprecationWarning: an integer is required (got type float).  Implicit conversion to integers using __int__ is deprecated, and may be removed in a future version of Python.\n",
      "  edge_weight = torch.tensor([\n"
     ]
    }
   ],
   "source": [
    "edge_weight = torch.tensor([\n",
    "    [35.], # W for node (0,1)\n",
    "    [48.], # W for node (0,2)\n",
    "    [12.], # W for (0,3)\n",
    "    [10.], # W for (1,0)\n",
    "    [70.], # W for (2,0)\n",
    "    [5.], # W for (2,3)\n",
    "    [15.], # W for (3,2)\n",
    "    [8.], # W for (3,0)\n",
    "    [23.], # (4,3)\n",
    "    [8.], # (4,0)\n",
    "    [2.], # (3,4)\n",
    "    [1.],\n",
    "], dtype = torch.long)"
   ]
  },
  {
   "cell_type": "code",
   "execution_count": 54,
   "id": "8a78d3be",
   "metadata": {},
   "outputs": [
    {
     "data": {
      "text/plain": [
       "torch.Tensor"
      ]
     },
     "execution_count": 54,
     "metadata": {},
     "output_type": "execute_result"
    }
   ],
   "source": [
    "type(edge_weight)"
   ]
  },
  {
   "cell_type": "markdown",
   "id": "e77d4f03",
   "metadata": {},
   "source": [
    "### Make a data object to store all graph info above"
   ]
  },
  {
   "cell_type": "code",
   "execution_count": 55,
   "id": "14425225",
   "metadata": {},
   "outputs": [],
   "source": [
    "data = Data(x=node_features, edge_index=edge_list, edge_attr = edge_weight)"
   ]
  },
  {
   "cell_type": "code",
   "execution_count": 56,
   "id": "3c464114",
   "metadata": {},
   "outputs": [
    {
     "name": "stdout",
     "output_type": "stream",
     "text": [
      "Number of nodes: \n",
      " 6\n"
     ]
    }
   ],
   "source": [
    "print(\"Number of nodes: \\n\", data.num_nodes)"
   ]
  },
  {
   "cell_type": "code",
   "execution_count": 57,
   "id": "ae71fb2b",
   "metadata": {},
   "outputs": [
    {
     "name": "stdout",
     "output_type": "stream",
     "text": [
      "Num of edges:  12\n"
     ]
    }
   ],
   "source": [
    "print(\"Num of edges: \", data.num_edges)"
   ]
  },
  {
   "cell_type": "code",
   "execution_count": 58,
   "id": "a3886e54",
   "metadata": {},
   "outputs": [
    {
     "name": "stdout",
     "output_type": "stream",
     "text": [
      "# of features per node (len of feature vector): 6\n"
     ]
    }
   ],
   "source": [
    "print(\"# of features per node (len of feature vector):\", data.num_node_features)"
   ]
  },
  {
   "cell_type": "code",
   "execution_count": 59,
   "id": "0781ae9d",
   "metadata": {},
   "outputs": [
    {
     "name": "stdout",
     "output_type": "stream",
     "text": [
      "# of Weights (edge features): 1 \n",
      "\n"
     ]
    }
   ],
   "source": [
    "print(\"# of Weights (edge features):\", data.num_edge_features, \"\\n\")"
   ]
  },
  {
   "cell_type": "markdown",
   "id": "084f3f59",
   "metadata": {},
   "source": [
    "## Plotting the graph \n",
    "***Note:** convert data to_networkx"
   ]
  },
  {
   "cell_type": "code",
   "execution_count": 60,
   "id": "097398f1",
   "metadata": {},
   "outputs": [
    {
     "data": {
      "image/png": "[encoded data removed]",
      "text/plain": [
       "<Figure size 640x480 with 1 Axes>"
      ]
     },
     "metadata": {},
     "output_type": "display_data"
    }
   ],
   "source": [
    "# plotting\n",
    "G = to_networkx(data)\n",
    "nx.draw_networkx(G)"
   ]
  },
  {
   "cell_type": "code",
   "execution_count": null,
   "id": "35512c95",
   "metadata": {},
   "outputs": [],
   "source": []
  }
 ],
 "metadata": {
  "kernelspec": {
   "display_name": "Python 3 (ipykernel)",
   "language": "python",
   "name": "python3"
  },
  "language_info": {
   "codemirror_mode": {
    "name": "ipython",
    "version": 3
   },
   "file_extension": ".py",
   "mimetype": "text/x-python",
   "name": "python",
   "nbconvert_exporter": "python",
   "pygments_lexer": "ipython3",
   "version": "3.9.7"
  }
 },
 "nbformat": 4,
 "nbformat_minor": 5
}
