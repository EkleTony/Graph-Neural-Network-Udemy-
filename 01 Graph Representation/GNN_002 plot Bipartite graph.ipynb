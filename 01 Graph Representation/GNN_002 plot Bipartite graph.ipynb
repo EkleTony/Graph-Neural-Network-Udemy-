{
 "cells": [
  {
   "cell_type": "markdown",
   "id": "6308b716",
   "metadata": {},
   "source": [
    "## Bipartite Graph\n",
    "\n",
    " Bipartite graphs $$B = (U, V, E)$$ have two node sets U,V and edges in E that only connect nodes from opposite sets."
   ]
  },
  {
   "cell_type": "code",
   "execution_count": 4,
   "id": "f127913d",
   "metadata": {},
   "outputs": [],
   "source": [
    "import torch\n",
    "import networkx as nx\n",
    "from torch_geometric.utils.convert import to_networkx\n",
    "from networkx.algorithms import bipartite"
   ]
  },
  {
   "cell_type": "code",
   "execution_count": 2,
   "id": "b1964607",
   "metadata": {},
   "outputs": [],
   "source": [
    "# using NetworkX"
   ]
  },
  {
   "cell_type": "code",
   "execution_count": 5,
   "id": "9f09cdd1",
   "metadata": {},
   "outputs": [],
   "source": [
    "B= nx.Graph()\n",
    "\n",
    "# add nodes witht the node attribute\n",
    "\n",
    "B.add_nodes_from([1,2,3,4], bipartite=0)\n",
    "B.add_nodes_from([\"a\", \"b\", \"c\"], bipartite =1)\n",
    "\n",
    "#Add edges only between nodes of opposite node sets\n",
    "B.add_edges_from([(1, \"a\"), (1, \"b\"), (2, \"b\"), (2, \"c\"), (3, \"c\"), (4, \"a\")])"
   ]
  },
  {
   "cell_type": "code",
   "execution_count": 6,
   "id": "ac681b31",
   "metadata": {},
   "outputs": [
    {
     "data": {
      "text/plain": [
       "True"
      ]
     },
     "execution_count": 6,
     "metadata": {},
     "output_type": "execute_result"
    }
   ],
   "source": [
    "# connecting the nodes\n",
    "\n",
    "nx.is_connected(B)"
   ]
  },
  {
   "cell_type": "code",
   "execution_count": 7,
   "id": "c483c6c4",
   "metadata": {},
   "outputs": [],
   "source": [
    "# get two nodes\n",
    "top_nodes = {n for n, d in B.nodes(data= True) if d [\"bipartite\"] == 0}\n",
    "bottom_nodes = set(B) - top_nodes"
   ]
  },
  {
   "cell_type": "code",
   "execution_count": 8,
   "id": "dfbadbf2",
   "metadata": {},
   "outputs": [
    {
     "name": "stdout",
     "output_type": "stream",
     "text": [
      "0.5\n"
     ]
    }
   ],
   "source": [
    "print(round(bipartite.density(B, bottom_nodes), 2))"
   ]
  },
  {
   "cell_type": "code",
   "execution_count": 9,
   "id": "fdb75094",
   "metadata": {},
   "outputs": [],
   "source": [
    "G = bipartite.projected_graph(B, top_nodes)"
   ]
  },
  {
   "cell_type": "code",
   "execution_count": 10,
   "id": "d0b2ad6a",
   "metadata": {},
   "outputs": [
    {
     "data": {
      "text/plain": [
       "<networkx.classes.graph.Graph at 0x16d231130>"
      ]
     },
     "execution_count": 10,
     "metadata": {},
     "output_type": "execute_result"
    }
   ],
   "source": [
    "G"
   ]
  },
  {
   "cell_type": "code",
   "execution_count": 13,
   "id": "40540b9f",
   "metadata": {},
   "outputs": [
    {
     "data": {
      "image/png": "[encoded data removed]",
      "text/plain": [
       "<Figure size 640x480 with 1 Axes>"
      ]
     },
     "metadata": {},
     "output_type": "display_data"
    }
   ],
   "source": [
    "#G = to_networkx(data)\n",
    "nx.draw_networkx(RB)"
   ]
  },
  {
   "cell_type": "code",
   "execution_count": 12,
   "id": "f0ca91eb",
   "metadata": {},
   "outputs": [
    {
     "data": {
      "text/plain": [
       "[5, 6, 7, 8, 9, 10, 11]"
      ]
     },
     "execution_count": 12,
     "metadata": {},
     "output_type": "execute_result"
    }
   ],
   "source": [
    "RB = bipartite.random_graph(5, 7, 0.2)\n",
    "RB_top = {n for n, d in RB.nodes(data=True) if d[\"bipartite\"] == 0}\n",
    "RB_bottom = set(RB) - RB_top\n",
    "list(RB_top)\n",
    "[0, 1, 2, 3, 4]\n",
    "list(RB_bottom)\n",
    "[5, 6, 7, 8, 9, 10, 11]"
   ]
  },
  {
   "cell_type": "code",
   "execution_count": null,
   "id": "b5f2197d",
   "metadata": {},
   "outputs": [],
   "source": []
  }
 ],
 "metadata": {
  "kernelspec": {
   "display_name": "Python 3 (ipykernel)",
   "language": "python",
   "name": "python3"
  },
  "language_info": {
   "codemirror_mode": {
    "name": "ipython",
    "version": 3
   },
   "file_extension": ".py",
   "mimetype": "text/x-python",
   "name": "python",
   "nbconvert_exporter": "python",
   "pygments_lexer": "ipython3",
   "version": "3.9.7"
  }
 },
 "nbformat": 4,
 "nbformat_minor": 5
}
