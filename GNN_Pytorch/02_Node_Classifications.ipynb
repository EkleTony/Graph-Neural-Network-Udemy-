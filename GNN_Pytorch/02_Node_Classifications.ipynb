{
 "cells": [
  {
   "attachments": {},
   "cell_type": "markdown",
   "id": "3921d23f",
   "metadata": {},
   "source": [
    "# Node Classification on large Knowledge Graphs\n",
    "\n",
    "## 01 Cora Dataset\n",
    "\n",
    " Using the `Cora` dataset consists of `2708` scientific publications classified into one of seven classes and the citation network consists of 5429 links.\n",
    " \n",
    "The dictionary consists of 1433 unique words.\n",
    "\n",
    "* Nodes = Publications (Papers, Books ...)\n",
    "* Edges = Citations\n",
    "* Node Features = word vectors\n",
    "* 7 Labels = Pubilcation type e.g. Neural_Networks, Rule_Learning, Reinforcement_Learning, Probabilistic_Methods...\n",
    "\n",
    "We normalize the features using torch geometric's transform functions.\n",
    " \n",
    " \n",
    " NB: This dataset was first introduced by [Yang et al. (2016)](https://arxiv.org/abs/1603.08861) as one of the datasets of the `Planetoid` benchmark suite.\n",
    " \n",
    "\n",
    "<img src=\"cora_dataset.png\" alt=\"Cora Dataset\" width=\"400\">\n",
    "\n",
    "**Image** taken from [Veličković, P. et al. (2018)](https://personal.utdallas.edu/~fxc190007/courses/20S-7301/GAT-questions.pdf) \"Graph attention networks.\" \n",
    "\n",
    "\n",
    "1. **Task 1:** To classify the node using the publicatoin type. Here, we are given the ground-truth labels of only a small subset of nodes, and want to infer the labels for all the remaining nodes (*transductive learning*).\n",
    "\n"
   ]
  },
  {
   "cell_type": "markdown",
   "id": "25a4cb0e",
   "metadata": {},
   "source": [
    "## 02 Load Dataset"
   ]
  },
  {
   "cell_type": "code",
   "execution_count": 2,
   "id": "f650461f",
   "metadata": {},
   "outputs": [],
   "source": [
    "import torch\n",
    "from torch_geometric.datasets import Planetoid\n",
    "from torch_geometric.transforms import NormalizeFeatures"
   ]
  },
  {
   "cell_type": "code",
   "execution_count": 3,
   "id": "7c1fb3dc",
   "metadata": {},
   "outputs": [
    {
     "name": "stderr",
     "output_type": "stream",
     "text": [
      "Downloading https://github.com/kimiyoung/planetoid/raw/master/data/ind.cora.x\n",
      "Downloading https://github.com/kimiyoung/planetoid/raw/master/data/ind.cora.tx\n",
      "Downloading https://github.com/kimiyoung/planetoid/raw/master/data/ind.cora.allx\n",
      "Downloading https://github.com/kimiyoung/planetoid/raw/master/data/ind.cora.y\n",
      "Downloading https://github.com/kimiyoung/planetoid/raw/master/data/ind.cora.ty\n",
      "Downloading https://github.com/kimiyoung/planetoid/raw/master/data/ind.cora.ally\n",
      "Downloading https://github.com/kimiyoung/planetoid/raw/master/data/ind.cora.graph\n",
      "Downloading https://github.com/kimiyoung/planetoid/raw/master/data/ind.cora.test.index\n",
      "Processing...\n",
      "Done!\n"
     ]
    }
   ],
   "source": [
    "# load dataset\n",
    "dataset = Planetoid(root='data/Planetoid', name='Cora', transform=NormalizeFeatures())"
   ]
  },
  {
   "cell_type": "code",
   "execution_count": 16,
   "id": "b9bd51a2",
   "metadata": {},
   "outputs": [
    {
     "name": "stdout",
     "output_type": "stream",
     "text": [
      "Number of graphs: 1\n",
      "Number of features 1433\n",
      "Number of classes 7\n",
      "========================================\n",
      "Data(x=[2708, 1433], edge_index=[2, 10556], y=[2708], train_mask=[2708], val_mask=[2708], test_mask=[2708])\n",
      "Number of nodes: 2708\n",
      "Number of edges: 10556\n",
      "Number of training nodes: 140\n",
      "Training node label rate: 0.05\n",
      "Is undirected: True\n"
     ]
    }
   ],
   "source": [
    "# dataset overview\n",
    "\n",
    "print(f'Number of graphs:', len(dataset))\n",
    "print(f'Number of features', dataset.num_features)\n",
    "print(f'Number of classes', dataset.num_classes)\n",
    "\n",
    "print(\"=\"*40)\n",
    "\n",
    "# There is only one graph in the dataset, use it as new data object\n",
    "data = dataset[0]\n",
    "\n",
    "# Gather some statistics about the graph.\n",
    "print(data)\n",
    "print(f'Number of nodes: {data.num_nodes}')\n",
    "print(f'Number of edges: {data.num_edges}')\n",
    "\n",
    "# train_mask to summarize over the entries\n",
    "print(f'Number of training nodes: {data.train_mask.sum()}')\n",
    "print(f'Training node label rate: {int(data.train_mask.sum()) / data.num_nodes:.2f}')\n",
    "print(f'Is undirected: {data.is_undirected()}')"
   ]
  },
  {
   "attachments": {},
   "cell_type": "markdown",
   "id": "17fbeb83",
   "metadata": {},
   "source": [
    "**Observations:**\n",
    "- We only have a relatively small set of training nodes (20 nodes per class)\n",
    "- There are binary test, train and validation masks of the size #nodes (they tell use which node can be used for which task)\n",
    "\n",
    "\n"
   ]
  },
  {
   "cell_type": "code",
   "execution_count": 13,
   "id": "c8920fdc",
   "metadata": {},
   "outputs": [
    {
     "name": "stdout",
     "output_type": "stream",
     "text": [
      "torch.Size([2708, 1433])\n"
     ]
    }
   ],
   "source": [
    "print(data.x.shape)"
   ]
  },
  {
   "cell_type": "code",
   "execution_count": 15,
   "id": "8e9959ab",
   "metadata": {},
   "outputs": [
    {
     "data": {
      "text/plain": [
       "tensor([0.0000, 0.0000, 0.0000, 0.0000, 0.0000, 0.0000, 0.0000, 0.0000, 0.0000,\n",
       "        0.0000, 0.0000, 0.0000, 0.0000, 0.0000, 0.0000, 0.0000, 0.0000, 0.0000,\n",
       "        0.0000, 0.1111, 0.0000, 0.0000, 0.0000, 0.0000, 0.0000, 0.0000, 0.0000,\n",
       "        0.0000, 0.0000, 0.0000, 0.0000, 0.0000, 0.0000, 0.0000, 0.0000, 0.0000,\n",
       "        0.0000, 0.0000, 0.0000, 0.0000, 0.0000, 0.0000, 0.0000, 0.0000, 0.0000,\n",
       "        0.0000, 0.0000, 0.0000, 0.0000, 0.0000])"
      ]
     },
     "execution_count": 15,
     "metadata": {},
     "output_type": "execute_result"
    }
   ],
   "source": [
    "# printing some of the normalized word counts for the first datapoint\n",
    "data.x[0][:50]"
   ]
  },
  {
   "cell_type": "code",
   "execution_count": 18,
   "id": "90863683",
   "metadata": {},
   "outputs": [
    {
     "data": {
      "text/plain": [
       "tensor([3, 4, 4,  ..., 3, 3, 3])"
      ]
     },
     "execution_count": 18,
     "metadata": {},
     "output_type": "execute_result"
    }
   ],
   "source": [
    "# show the label\n",
    "# They are encoded as numerical value btw 0 to 6\n",
    "\n",
    "data.y"
   ]
  },
  {
   "cell_type": "markdown",
   "id": "75e318d3",
   "metadata": {},
   "source": [
    "## Example for the binary masks\n",
    "\n",
    "<img src=\"binary_node.png\" alt=\"binary_node_task\" width=\"400\">\n"
   ]
  },
  {
   "cell_type": "code",
   "execution_count": 19,
   "id": "39ec3822",
   "metadata": {},
   "outputs": [
    {
     "name": "stdout",
     "output_type": "stream",
     "text": [
      "True\n"
     ]
    },
    {
     "data": {
      "text/plain": [
       "tensor([False, False, False,  ...,  True,  True,  True])"
      ]
     },
     "execution_count": 19,
     "metadata": {},
     "output_type": "execute_result"
    }
   ],
   "source": [
    "print(len(data.test_mask) == data.num_nodes)\n",
    "data.test_mask"
   ]
  },
  {
   "cell_type": "markdown",
   "id": "34cc6ba9",
   "metadata": {},
   "source": [
    "### Example for the edge connections"
   ]
  },
  {
   "cell_type": "code",
   "execution_count": 20,
   "id": "1b3d2917",
   "metadata": {},
   "outputs": [
    {
     "data": {
      "text/plain": [
       "tensor([[   0,  633],\n",
       "        [   0, 1862],\n",
       "        [   0, 2582],\n",
       "        ...,\n",
       "        [2707,  598],\n",
       "        [2707, 1473],\n",
       "        [2707, 2706]])"
      ]
     },
     "execution_count": 20,
     "metadata": {},
     "output_type": "execute_result"
    }
   ],
   "source": [
    "data.edge_index.t()"
   ]
  },
  {
   "cell_type": "markdown",
   "id": "9dbff1da",
   "metadata": {},
   "source": [
    "* We could see that node `0` is connected to node `633` and `2702` to `598`. \n",
    "**Note:** this is typically our `Adjacency Matrix`\n",
    "\n",
    "* Now, we can build our GNN model"
   ]
  },
  {
   "cell_type": "markdown",
   "id": "5319333b",
   "metadata": {},
   "source": [
    "## 03 Graph Neural Network for Node Classification\n",
    "\n",
    "<img src=\"GCN_layers.png\" alt=\"binary_node_task\" width=\"400\">\n"
   ]
  },
  {
   "cell_type": "code",
   "execution_count": 21,
   "id": "ae078d1e",
   "metadata": {},
   "outputs": [],
   "source": [
    "# import libraries"
   ]
  },
  {
   "cell_type": "code",
   "execution_count": 22,
   "id": "1056b753",
   "metadata": {},
   "outputs": [],
   "source": [
    "import torch\n",
    "from torch.nn import Linear\n",
    "import torch.nn.functional as F\n",
    "from torch_geometric.nn import GCNConv"
   ]
  },
  {
   "cell_type": "code",
   "execution_count": 36,
   "id": "ea055a1b",
   "metadata": {},
   "outputs": [
    {
     "name": "stdout",
     "output_type": "stream",
     "text": [
      "GCN(\n",
      "  (conv1): GCNConv(1433, 16)\n",
      "  (conv2): GCNConv(16, 16)\n",
      "  (out): Linear(in_features=16, out_features=7, bias=True)\n",
      ")\n"
     ]
    }
   ],
   "source": [
    "# build GCN layer\n",
    "class GCN(torch.nn.Module):\n",
    "    def __init__(self, hidden_channels):\n",
    "        super(GCN, self).__init__()\n",
    "        torch.manual_seed(42)\n",
    "        \n",
    "        \n",
    "        # Initialize the layers\n",
    "        self.conv1 = GCNConv(dataset.num_features, hidden_channels)\n",
    "        self.conv2 = GCNConv(hidden_channels, hidden_channels)\n",
    "        self.out = Linear(hidden_channels, dataset.num_classes)\n",
    "        \n",
    "        # forward layer\n",
    "    def forward(self, x, edge_index):\n",
    "        # First message passing layer \n",
    "        # Transformation phase\n",
    "        \n",
    "        x =  self.conv1(x, edge_index)\n",
    "        x = x.relu()\n",
    "        x = F.dropout(x, p=0.5, training = self.training)\n",
    "        \n",
    "        # Second Message Passing Layer\n",
    "        x = self.conv2(x, edge_index)\n",
    "        x = x.relu()\n",
    "        x = F.dropout(x, p =0.5, training = self.training)\n",
    "        \n",
    "        # Output layer\n",
    "        x = F.softmax(self.out(x), dim=1)\n",
    "        return x\n",
    "    \n",
    "model = GCN(hidden_channels= 16)\n",
    "print(model)"
   ]
  },
  {
   "cell_type": "markdown",
   "id": "25ee50de",
   "metadata": {},
   "source": [
    "Details:\n",
    "\n",
    "* 2 Message passing layers and  one linear output layer\n",
    "\n",
    "* Output is 7 probailities, one for each\n",
    "* Dropout is only applied in training step, but not for predictions"
   ]
  },
  {
   "cell_type": "markdown",
   "id": "192f8341",
   "metadata": {},
   "source": [
    "## 04 Training and Evaluation"
   ]
  },
  {
   "cell_type": "code",
   "execution_count": 37,
   "id": "38e64c84",
   "metadata": {},
   "outputs": [],
   "source": [
    "# initialize GCN model class\n",
    "model = GCN(hidden_channels = 16)\n",
    "\n",
    "# optimizer \n",
    "learning_rate = 0.01\n",
    "decay = 5e-4\n",
    "optimizer = torch.optim.Adam(model.parameters(),\n",
    "                            lr = learning_rate,\n",
    "                            weight_decay=decay)\n",
    "\n",
    "#Binary class entropy\n",
    "\n",
    "criterion = torch.nn.CrossEntropyLoss()\n"
   ]
  },
  {
   "cell_type": "code",
   "execution_count": 38,
   "id": "ee217987",
   "metadata": {},
   "outputs": [],
   "source": [
    "# Use GPU\n",
    "device = torch.device(\"cuda:0\" if torch.cuda.is_available() else \"cpu\")\n",
    "model = model.to(device)\n",
    "data = data.to(device)"
   ]
  },
  {
   "cell_type": "code",
   "execution_count": null,
   "id": "dd3addc6",
   "metadata": {},
   "outputs": [],
   "source": []
  },
  {
   "cell_type": "code",
   "execution_count": 39,
   "id": "55ea1e6e",
   "metadata": {},
   "outputs": [
    {
     "name": "stdout",
     "output_type": "stream",
     "text": [
      "Epoch: 000, Loss: 1.9461\n",
      "Epoch: 100, Loss: 1.8390\n",
      "Epoch: 200, Loss: 1.7540\n",
      "Epoch: 300, Loss: 1.5714\n",
      "Epoch: 400, Loss: 1.4263\n",
      "Epoch: 500, Loss: 1.3929\n",
      "Epoch: 600, Loss: 1.3959\n",
      "Epoch: 700, Loss: 1.4037\n",
      "Epoch: 800, Loss: 1.4021\n",
      "Epoch: 900, Loss: 1.3807\n",
      "Epoch: 1000, Loss: 1.3346\n"
     ]
    }
   ],
   "source": [
    "# train\n",
    "\n",
    "def train():\n",
    "    model.train()\n",
    "    optimizer.zero_grad()\n",
    "    \n",
    "    # we use all data as input, because all nodes have features\n",
    "    \n",
    "    out = model(data.x, data.edge_index)\n",
    "    #only use nodes with labels available for loss cal.\n",
    "    loss = criterion(out[data.train_mask], data.y[data.train_mask])\n",
    "    loss.backward()\n",
    "    optimizer.step()\n",
    "    return loss\n",
    "\n",
    "# test\n",
    "\n",
    "def test():\n",
    "    model.eval()\n",
    "    out = model(data.x, data.edge_index)\n",
    "    # use the class with highest probability\n",
    "    pred = out.argmax(dim=1)\n",
    "    # Check against ground-truth labels.\n",
    "    test_correct = pred[data.test_mask] == data.y[data.test_mask]\n",
    "    # Derive ratio of correct predictions.\n",
    "    test_acc = int(test_correct.sum()) / int(data.test_mask.sum())\n",
    "    return test_acc\n",
    "\n",
    "losses = []\n",
    "for epoch in range(0, 1001):\n",
    "    loss = train()\n",
    "    losses.append(loss)\n",
    "    if epoch % 100 == 0:\n",
    "      print(f'Epoch: {epoch:03d}, Loss: {loss:.4f}')"
   ]
  },
  {
   "cell_type": "markdown",
   "id": "10a74242",
   "metadata": {},
   "source": [
    "Visualizing the loss"
   ]
  },
  {
   "cell_type": "code",
   "execution_count": 40,
   "id": "f17e1137",
   "metadata": {},
   "outputs": [
    {
     "name": "stderr",
     "output_type": "stream",
     "text": [
      "/Users/anthonyekle/miniforge3/lib/python3.9/site-packages/seaborn/_decorators.py:36: FutureWarning: Pass the following variables as keyword args: x, y. From version 0.12, the only valid positional argument will be `data`, and passing other arguments without an explicit keyword will result in an error or misinterpretation.\n",
      "  warnings.warn(\n"
     ]
    },
    {
     "data": {
      "text/plain": [
       "<AxesSubplot:>"
      ]
     },
     "execution_count": 40,
     "metadata": {},
     "output_type": "execute_result"
    },
    {
     "data": {
      "image/png": "[encoded data removed]",
      "text/plain": [
       "<Figure size 640x480 with 1 Axes>"
      ]
     },
     "metadata": {},
     "output_type": "display_data"
    }
   ],
   "source": [
    "import seaborn as sns\n",
    "losses_float = [float(loss.cpu().detach().numpy()) for loss in losses]\n",
    "loss_indices = [i for i,l in enumerate(losses_float)]\n",
    "plt = sns.lineplot(loss_indices, losses_float)\n",
    "plt"
   ]
  },
  {
   "cell_type": "markdown",
   "id": "03f18c14",
   "metadata": {},
   "source": [
    "Evaluation Matrix\n",
    "\n"
   ]
  },
  {
   "cell_type": "code",
   "execution_count": 41,
   "id": "11e56657",
   "metadata": {},
   "outputs": [
    {
     "name": "stdout",
     "output_type": "stream",
     "text": [
      "Test Accuracy: 0.7070\n"
     ]
    }
   ],
   "source": [
    "test_acc = test()\n",
    "print(f'Test Accuracy: {test_acc:.4f}')"
   ]
  },
  {
   "cell_type": "code",
   "execution_count": null,
   "id": "d2937675",
   "metadata": {},
   "outputs": [],
   "source": []
  }
 ],
 "metadata": {
  "kernelspec": {
   "display_name": "Python 3 (ipykernel)",
   "language": "python",
   "name": "python3"
  },
  "language_info": {
   "codemirror_mode": {
    "name": "ipython",
    "version": 3
   },
   "file_extension": ".py",
   "mimetype": "text/x-python",
   "name": "python",
   "nbconvert_exporter": "python",
   "pygments_lexer": "ipython3",
   "version": "3.9.7"
  }
 },
 "nbformat": 4,
 "nbformat_minor": 5
}
