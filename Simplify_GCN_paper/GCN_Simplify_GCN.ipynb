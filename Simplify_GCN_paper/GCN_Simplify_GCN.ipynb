{
 "cells": [
  {
   "cell_type": "markdown",
   "id": "5358d7c9",
   "metadata": {},
   "source": [
    "## Simplifying Graph Convolutional Networks\n",
    "\n",
    "\n",
    "**Abstract**\n",
    "* Graph Convolutional Networks (GCNs) and their variants have experienced significant attention and have become the de facto methods for learning graph representations. GCNs derive inspiration primarily from recent deep learning approaches, and as a result, may inherit unnecessary complex- ity and redundant computation. In this paper, we reduce this excess complexity through suc- cessively removing nonlinearities and collapsing weight matrices between consecutive layers. We theoretically analyze the resulting linear model and show that it corresponds to a fixed low-pass filter followed by a linear classifier. Notably, our experimental evaluation demonstrates that these simplifications do not negatively impact accuracy in many downstream applications. Moreover, the resulting model scales to larger datasets, is natu- rally interpretable, and yields up to two orders of magnitude speedup over FastGCN.\n",
    "\n",
    "\n",
    "Paper: implementation [Wu et al. (2019)](https://proceedings.mlr.press/v97/wu19e.html) as one of the datasets of the `Planetoid` benchmark suite.\n",
    " "
   ]
  },
  {
   "cell_type": "code",
   "execution_count": 22,
   "id": "ec3f559b",
   "metadata": {},
   "outputs": [],
   "source": [
    "# libraries\n",
    "\n",
    "import os.path as osp\n",
    "import sys\n",
    "import torch\n",
    "from sklearn.manifold import TSNE\n",
    "import matplotlib.pyplot as plt\n",
    "from torch_geometric.datasets import Planetoid\n",
    "from torch_geometric.nn import SGConv\n",
    "import torch.nn.functional as F \n"
   ]
  },
  {
   "cell_type": "markdown",
   "id": "18c25f01",
   "metadata": {},
   "source": [
    "## Import dataset"
   ]
  },
  {
   "cell_type": "code",
   "execution_count": 23,
   "id": "68b2d8e7",
   "metadata": {},
   "outputs": [
    {
     "name": "stdout",
     "output_type": "stream",
     "text": [
      "Cora:  Data(x=[2708, 1433], edge_index=[2, 10556], y=[2708], train_mask=[2708], val_mask=[2708], test_mask=[2708])\n"
     ]
    }
   ],
   "source": [
    "# ===================Import dataset==============\n",
    "\n",
    "dataset = 'Cora'\n",
    "#path = osp.join(osp.dirname(osp.realpath(__file__)), '..', 'data', dataset)\n",
    "#dataset = Planetoid(path, dataset)\n",
    "dataset = Planetoid(root='data/Planetoid', name='Cora')\n",
    "data = dataset[0]\n",
    "print(\"Cora: \", data)\n",
    "\n",
    "device = 'cuda' if torch.cuda.is_available() else 'cpu'"
   ]
  },
  {
   "cell_type": "markdown",
   "id": "8b0acc32",
   "metadata": {},
   "source": [
    "## Contruct The Simplifying Graph Covn Network Model"
   ]
  },
  {
   "cell_type": "code",
   "execution_count": 24,
   "id": "2bc158f5",
   "metadata": {},
   "outputs": [
    {
     "name": "stdout",
     "output_type": "stream",
     "text": [
      "Shape of the original data:  torch.Size([2708, 1433])\n",
      "Shape of the embedding data:  torch.Size([2708, 7])\n"
     ]
    }
   ],
   "source": [
    "# =================== Contruct The Simplifying Graph Covn Network Model==============\n",
    "SGC_model = SGConv(in_channels= data.num_features, # Number of features\n",
    "                    out_channels = dataset.num_classes, # Dimension of embedding\n",
    "                    K = 1,\n",
    "                    cached = True\n",
    "                    )\n",
    "# =================== GET Embedding ==================\n",
    "print(\"Shape of the original data: \", data.x.shape)\n",
    "print(\"Shape of the embedding data: \", SGC_model(data.x, data.edge_index).shape)"
   ]
  },
  {
   "cell_type": "markdown",
   "id": "16ab4c8e",
   "metadata": {},
   "source": [
    "## Contruct the NODE Classification Model"
   ]
  },
  {
   "cell_type": "code",
   "execution_count": 25,
   "id": "eb905fa6",
   "metadata": {},
   "outputs": [],
   "source": [
    "#==================== Contruct the NODE Classification Model ==================\n",
    "class SGCNet(torch.nn.Module):\n",
    "    def __init__(self):\n",
    "        super().__init__()\n",
    "        self.conv1 = SGConv(in_channels = dataset.num_features, # Number of features\n",
    "                            out_channels = dataset.num_classes, # dimension of embedding\n",
    "                            K =2, cached = True)\n",
    "    def forward(self):\n",
    "        x = self.conv1(data.x, data.edge_index) # applying convolution to data\n",
    "        return F.log_softmax(x, dim =1)\n",
    "        "
   ]
  },
  {
   "cell_type": "code",
   "execution_count": 26,
   "id": "04387616",
   "metadata": {},
   "outputs": [],
   "source": [
    "# device consideration\n",
    "device =  torch.device('cuda' if torch.cuda.is_available() else 'cpu')\n",
    "SGC_model, data = SGCNet().to(device), data.to(device)\n",
    "optimizer = torch.optim.Adam(SGC_model.parameters(), lr=0.2,weight_decay=0.005)"
   ]
  },
  {
   "cell_type": "code",
   "execution_count": 27,
   "id": "3528c72e",
   "metadata": {},
   "outputs": [
    {
     "name": "stdout",
     "output_type": "stream",
     "text": [
      " Parameters conv1.lin.weight\n",
      " Shape:  torch.Size([7, 1433])\n",
      " Parameters conv1.lin.bias\n",
      " Shape:  torch.Size([7])\n"
     ]
    }
   ],
   "source": [
    "# learning parameters\n",
    "for i, parameters in SGC_model.named_parameters():\n",
    "    print(\" Parameters {}\".format(i))\n",
    "    print(\" Shape: \", parameters.shape)"
   ]
  },
  {
   "cell_type": "markdown",
   "id": "3f99f626",
   "metadata": {},
   "source": [
    "## Train model"
   ]
  },
  {
   "cell_type": "code",
   "execution_count": 28,
   "id": "94db969d",
   "metadata": {},
   "outputs": [],
   "source": [
    "# ============ TRAIN ==================\n",
    "train_losses = []\n",
    "train_accuracies = []\n",
    "val_accuracies = []\n",
    "test_accuracies = []\n",
    "def train():\n",
    "    SGC_model.train()\n",
    "    optimizer.zero_grad()\n",
    "    predicted_y = SGC_model()\n",
    "    true_y = data.y\n",
    "    losses = F.nll_loss(predicted_y[data.train_mask], true_y[data.train_mask])\n",
    "    losses.backward()\n",
    "    optimizer.step()\n",
    "    train_losses.append(losses.item())  # Store the loss value\n"
   ]
  },
  {
   "cell_type": "code",
   "execution_count": null,
   "id": "5004c865",
   "metadata": {},
   "outputs": [],
   "source": []
  },
  {
   "cell_type": "markdown",
   "id": "e94e79e1",
   "metadata": {},
   "source": [
    "## TEst function"
   ]
  },
  {
   "cell_type": "code",
   "execution_count": 29,
   "id": "cb2c3cb7",
   "metadata": {},
   "outputs": [],
   "source": [
    "# =================TEST Function ====================\n",
    "@torch.no_grad()\n",
    "def test():\n",
    "    SGC_model.eval()   # set the model.training to be false\n",
    "    logits, accs = SGC_model(), [] # log probability and accuracy llist of model\n",
    "    for _, mask in data('train_mask', 'val_mask', 'test_mask'):\n",
    "        pred = logits[mask].max(1)[1]\n",
    "        acc = pred.eq(data.y[mask]).sum().item() / mask.sum().item()\n",
    "        accs.append(acc)\n",
    "    return accs\n",
    "\n"
   ]
  },
  {
   "cell_type": "markdown",
   "id": "71f82a62",
   "metadata": {},
   "source": [
    "## Training our model\n"
   ]
  },
  {
   "cell_type": "code",
   "execution_count": 30,
   "id": "3aeaeb54",
   "metadata": {},
   "outputs": [
    {
     "name": "stdout",
     "output_type": "stream",
     "text": [
      "Epoch: 001, Loss: 1.9491, Train: 0.9643, val: 0.6620, Test: 0.6810\n",
      "Epoch: 002, Loss: 0.4647, Train: 0.9786, val: 0.7780, Test: 0.7950\n",
      "Epoch: 003, Loss: 0.2465, Train: 1.0000, val: 0.7780, Test: 0.7950\n",
      "Epoch: 004, Loss: 0.1854, Train: 1.0000, val: 0.7780, Test: 0.7950\n",
      "Epoch: 005, Loss: 0.1938, Train: 1.0000, val: 0.7780, Test: 0.7950\n",
      "Epoch: 006, Loss: 0.2314, Train: 1.0000, val: 0.7780, Test: 0.7950\n",
      "Epoch: 007, Loss: 0.2733, Train: 1.0000, val: 0.7780, Test: 0.7950\n",
      "Epoch: 008, Loss: 0.3211, Train: 1.0000, val: 0.7800, Test: 0.8020\n",
      "Epoch: 009, Loss: 0.3435, Train: 0.9929, val: 0.7800, Test: 0.8020\n",
      "Epoch: 010, Loss: 0.3468, Train: 0.9929, val: 0.7800, Test: 0.8020\n",
      "Epoch: 011, Loss: 0.3329, Train: 0.9929, val: 0.7800, Test: 0.8020\n",
      "Epoch: 012, Loss: 0.3108, Train: 0.9929, val: 0.7800, Test: 0.8020\n",
      "Epoch: 013, Loss: 0.2952, Train: 1.0000, val: 0.7800, Test: 0.8020\n",
      "Epoch: 014, Loss: 0.2863, Train: 1.0000, val: 0.7800, Test: 0.8020\n",
      "Epoch: 015, Loss: 0.2836, Train: 1.0000, val: 0.7880, Test: 0.8210\n",
      "Epoch: 016, Loss: 0.2854, Train: 1.0000, val: 0.7880, Test: 0.8210\n",
      "Epoch: 017, Loss: 0.2893, Train: 1.0000, val: 0.7880, Test: 0.8210\n",
      "Epoch: 018, Loss: 0.2926, Train: 1.0000, val: 0.7880, Test: 0.8210\n",
      "Epoch: 019, Loss: 0.2923, Train: 0.9929, val: 0.7880, Test: 0.8210\n",
      "Epoch: 020, Loss: 0.2928, Train: 0.9929, val: 0.7880, Test: 0.8210\n",
      "Epoch: 021, Loss: 0.2939, Train: 0.9929, val: 0.7880, Test: 0.8210\n",
      "Epoch: 022, Loss: 0.2930, Train: 0.9929, val: 0.7880, Test: 0.8210\n",
      "Epoch: 023, Loss: 0.2949, Train: 0.9929, val: 0.7880, Test: 0.8210\n",
      "Epoch: 024, Loss: 0.2986, Train: 1.0000, val: 0.7880, Test: 0.8210\n",
      "Epoch: 025, Loss: 0.3009, Train: 1.0000, val: 0.7880, Test: 0.8210\n",
      "Epoch: 026, Loss: 0.3044, Train: 1.0000, val: 0.7880, Test: 0.8210\n",
      "Epoch: 027, Loss: 0.3064, Train: 0.9929, val: 0.7880, Test: 0.8210\n",
      "Epoch: 028, Loss: 0.3053, Train: 0.9929, val: 0.7880, Test: 0.8210\n",
      "Epoch: 029, Loss: 0.3030, Train: 0.9929, val: 0.7880, Test: 0.8210\n",
      "Epoch: 030, Loss: 0.2989, Train: 0.9929, val: 0.7880, Test: 0.8210\n",
      "Epoch: 031, Loss: 0.2947, Train: 0.9929, val: 0.7880, Test: 0.8210\n",
      "Epoch: 032, Loss: 0.2917, Train: 0.9929, val: 0.7880, Test: 0.8210\n",
      "Epoch: 033, Loss: 0.2906, Train: 1.0000, val: 0.7880, Test: 0.8210\n",
      "Epoch: 034, Loss: 0.2925, Train: 0.9929, val: 0.7880, Test: 0.8210\n",
      "Epoch: 035, Loss: 0.2965, Train: 0.9929, val: 0.7880, Test: 0.8210\n",
      "Epoch: 036, Loss: 0.3014, Train: 0.9929, val: 0.7880, Test: 0.8210\n",
      "Epoch: 037, Loss: 0.3057, Train: 0.9929, val: 0.7880, Test: 0.8210\n",
      "Epoch: 038, Loss: 0.3077, Train: 0.9929, val: 0.7880, Test: 0.8210\n",
      "Epoch: 039, Loss: 0.3069, Train: 0.9929, val: 0.7880, Test: 0.8210\n",
      "Epoch: 040, Loss: 0.3042, Train: 0.9929, val: 0.7880, Test: 0.8210\n",
      "Epoch: 041, Loss: 0.3010, Train: 0.9929, val: 0.7880, Test: 0.8210\n",
      "Epoch: 042, Loss: 0.2983, Train: 1.0000, val: 0.7900, Test: 0.8190\n",
      "Epoch: 043, Loss: 0.2974, Train: 1.0000, val: 0.7900, Test: 0.8190\n",
      "Epoch: 044, Loss: 0.2978, Train: 0.9929, val: 0.7900, Test: 0.8190\n",
      "Epoch: 045, Loss: 0.2996, Train: 0.9929, val: 0.7900, Test: 0.8190\n",
      "Epoch: 046, Loss: 0.3022, Train: 0.9929, val: 0.7900, Test: 0.8190\n",
      "Epoch: 047, Loss: 0.3042, Train: 0.9929, val: 0.7900, Test: 0.8190\n",
      "Epoch: 048, Loss: 0.3053, Train: 0.9929, val: 0.7900, Test: 0.8190\n",
      "Epoch: 049, Loss: 0.3049, Train: 0.9929, val: 0.7900, Test: 0.8190\n",
      "Epoch: 050, Loss: 0.3035, Train: 0.9929, val: 0.7900, Test: 0.8190\n",
      "Epoch: 051, Loss: 0.3016, Train: 1.0000, val: 0.7900, Test: 0.8190\n",
      "Epoch: 052, Loss: 0.3002, Train: 1.0000, val: 0.7900, Test: 0.8190\n",
      "Epoch: 053, Loss: 0.2999, Train: 1.0000, val: 0.7900, Test: 0.8190\n",
      "Epoch: 054, Loss: 0.3004, Train: 0.9929, val: 0.7900, Test: 0.8190\n",
      "Epoch: 055, Loss: 0.3014, Train: 0.9929, val: 0.7900, Test: 0.8190\n",
      "Epoch: 056, Loss: 0.3022, Train: 0.9929, val: 0.7900, Test: 0.8190\n",
      "Epoch: 057, Loss: 0.3025, Train: 0.9929, val: 0.7920, Test: 0.8180\n",
      "Epoch: 058, Loss: 0.3023, Train: 0.9929, val: 0.7920, Test: 0.8180\n",
      "Epoch: 059, Loss: 0.3016, Train: 0.9929, val: 0.7920, Test: 0.8180\n",
      "Epoch: 060, Loss: 0.3007, Train: 0.9929, val: 0.7920, Test: 0.8180\n",
      "Epoch: 061, Loss: 0.2999, Train: 0.9929, val: 0.7920, Test: 0.8180\n",
      "Epoch: 062, Loss: 0.2995, Train: 0.9929, val: 0.7920, Test: 0.8180\n",
      "Epoch: 063, Loss: 0.2997, Train: 0.9929, val: 0.7920, Test: 0.8180\n",
      "Epoch: 064, Loss: 0.3002, Train: 0.9929, val: 0.7920, Test: 0.8180\n",
      "Epoch: 065, Loss: 0.3008, Train: 0.9929, val: 0.7920, Test: 0.8180\n",
      "Epoch: 066, Loss: 0.3013, Train: 0.9929, val: 0.7920, Test: 0.8180\n",
      "Epoch: 067, Loss: 0.3014, Train: 0.9929, val: 0.7920, Test: 0.8180\n",
      "Epoch: 068, Loss: 0.3011, Train: 0.9929, val: 0.7920, Test: 0.8180\n",
      "Epoch: 069, Loss: 0.3006, Train: 0.9929, val: 0.7920, Test: 0.8180\n",
      "Epoch: 070, Loss: 0.3003, Train: 0.9929, val: 0.7920, Test: 0.8180\n",
      "Epoch: 071, Loss: 0.3002, Train: 0.9929, val: 0.7920, Test: 0.8180\n",
      "Epoch: 072, Loss: 0.3004, Train: 0.9929, val: 0.7920, Test: 0.8180\n",
      "Epoch: 073, Loss: 0.3006, Train: 0.9929, val: 0.7920, Test: 0.8180\n",
      "Epoch: 074, Loss: 0.3009, Train: 0.9929, val: 0.7920, Test: 0.8180\n",
      "Epoch: 075, Loss: 0.3011, Train: 0.9929, val: 0.7920, Test: 0.8180\n",
      "Epoch: 076, Loss: 0.3011, Train: 0.9929, val: 0.7920, Test: 0.8180\n",
      "Epoch: 077, Loss: 0.3009, Train: 0.9929, val: 0.7920, Test: 0.8180\n",
      "Epoch: 078, Loss: 0.3007, Train: 0.9929, val: 0.7920, Test: 0.8180\n",
      "Epoch: 079, Loss: 0.3006, Train: 0.9929, val: 0.7920, Test: 0.8180\n",
      "Epoch: 080, Loss: 0.3007, Train: 0.9929, val: 0.7920, Test: 0.8180\n",
      "Epoch: 081, Loss: 0.3009, Train: 0.9929, val: 0.7920, Test: 0.8180\n",
      "Epoch: 082, Loss: 0.3010, Train: 0.9929, val: 0.7920, Test: 0.8180\n",
      "Epoch: 083, Loss: 0.3010, Train: 0.9929, val: 0.7920, Test: 0.8180\n",
      "Epoch: 084, Loss: 0.3009, Train: 0.9929, val: 0.7920, Test: 0.8180\n",
      "Epoch: 085, Loss: 0.3008, Train: 0.9929, val: 0.7920, Test: 0.8180\n",
      "Epoch: 086, Loss: 0.3008, Train: 0.9929, val: 0.7920, Test: 0.8180\n",
      "Epoch: 087, Loss: 0.3008, Train: 0.9929, val: 0.7920, Test: 0.8180\n",
      "Epoch: 088, Loss: 0.3009, Train: 0.9929, val: 0.7920, Test: 0.8180\n",
      "Epoch: 089, Loss: 0.3010, Train: 0.9929, val: 0.7920, Test: 0.8180\n",
      "Epoch: 090, Loss: 0.3010, Train: 0.9929, val: 0.7920, Test: 0.8180\n",
      "Epoch: 091, Loss: 0.3010, Train: 0.9929, val: 0.7920, Test: 0.8180\n",
      "Epoch: 092, Loss: 0.3010, Train: 0.9929, val: 0.7920, Test: 0.8180\n",
      "Epoch: 093, Loss: 0.3009, Train: 0.9929, val: 0.7920, Test: 0.8180\n",
      "Epoch: 094, Loss: 0.3009, Train: 0.9929, val: 0.7920, Test: 0.8180\n",
      "Epoch: 095, Loss: 0.3009, Train: 0.9929, val: 0.7920, Test: 0.8180\n",
      "Epoch: 096, Loss: 0.3009, Train: 0.9929, val: 0.7920, Test: 0.8180\n",
      "Epoch: 097, Loss: 0.3010, Train: 0.9929, val: 0.7920, Test: 0.8180\n",
      "Epoch: 098, Loss: 0.3009, Train: 0.9929, val: 0.7920, Test: 0.8180\n",
      "Epoch: 099, Loss: 0.3009, Train: 0.9929, val: 0.7920, Test: 0.8180\n",
      "Epoch: 100, Loss: 0.3008, Train: 0.9929, val: 0.7920, Test: 0.8180\n"
     ]
    }
   ],
   "source": [
    "#===================== Putting all together ================\n",
    "best_val_acc = 0\n",
    "test_acc = 0\n",
    "for epoch in range(1, 101):\n",
    "    train()\n",
    "    train_acc, val_acc, tmp_test_acc = test()\n",
    "\n",
    "    # Append accuracies to lists\n",
    "    train_accuracies.append(train_acc)\n",
    "    val_accuracies.append(val_acc)\n",
    "    test_accuracies.append(tmp_test_acc)\n",
    "\n",
    "    if val_acc > best_val_acc:\n",
    "        best_val_acc = val_acc\n",
    "        test_acc = tmp_test_acc\n",
    "\n",
    "    log = 'Epoch: {:03d}, Loss: {:.4f}, Train: {:.4f}, val: {:.4f}, Test: {:.4f}'\n",
    "    print(log.format(epoch, train_losses[-1], train_acc, best_val_acc, test_acc))"
   ]
  },
  {
   "cell_type": "markdown",
   "id": "254047ce",
   "metadata": {},
   "source": [
    "## Ploting loss and accuracy"
   ]
  },
  {
   "cell_type": "code",
   "execution_count": 34,
   "id": "ade527e3",
   "metadata": {},
   "outputs": [
    {
     "data": {
      "image/png": "[encoded data removed]",
      "text/plain": [
       "<Figure size 1200x400 with 2 Axes>"
      ]
     },
     "metadata": {},
     "output_type": "display_data"
    }
   ],
   "source": [
    "\n",
    "#===================== Ploting loss and accuracy ==========\n",
    "def plot_loss_and_accuracy():\n",
    "    plt.figure(figsize=(12, 4))\n",
    "\n",
    "    # Plot Loss\n",
    "    plt.subplot(1, 2, 1)\n",
    "    plt.plot(train_losses, label='Train Loss')\n",
    "    plt.xlabel('Epoch')\n",
    "    plt.ylabel('Loss')\n",
    "    plt.title('Training Loss')\n",
    "    plt.legend()\n",
    "\n",
    "    # Plot Accuracy\n",
    "    plt.subplot(1, 2, 2)\n",
    "    plt.plot(train_accuracies, label='Train Accuracy')\n",
    "    plt.plot(val_accuracies, label='Validation Accuracy')\n",
    "    plt.plot(test_accuracies, label='Test Accuracy')\n",
    "    plt.xlabel('Epoch')\n",
    "    plt.ylabel('Accuracy')\n",
    "    plt.title('Training, Validation, and Test Accuracies')\n",
    "    plt.legend()\n",
    "\n",
    "    plt.tight_layout()\n",
    "    plt.show()\n",
    "plot_loss_and_accuracy()"
   ]
  },
  {
   "cell_type": "code",
   "execution_count": null,
   "id": "045fcc70",
   "metadata": {},
   "outputs": [],
   "source": []
  }
 ],
 "metadata": {
  "kernelspec": {
   "display_name": "Python 3 (ipykernel)",
   "language": "python",
   "name": "python3"
  },
  "language_info": {
   "codemirror_mode": {
    "name": "ipython",
    "version": 3
   },
   "file_extension": ".py",
   "mimetype": "text/x-python",
   "name": "python",
   "nbconvert_exporter": "python",
   "pygments_lexer": "ipython3",
   "version": "3.9.7"
  }
 },
 "nbformat": 4,
 "nbformat_minor": 5
}
